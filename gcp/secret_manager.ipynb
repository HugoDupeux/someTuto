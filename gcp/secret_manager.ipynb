{
 "cells": [
  {
   "cell_type": "markdown",
   "id": "97e88b5d",
   "metadata": {},
   "source": [
    "# Secret Manager\n",
    "Secret Manager is a secure and convenient storage system for API keys, passwords, certificates, and other sensitive data. \n",
    "\n",
    "You should **NEVER** write a sensitive data inside your code. Instead, you can create a secret inside GCP and read the secret inside your code. By doing so, anybody, even with your code, can get acces to the secret. Only your application get the secret value."
   ]
  },
  {
   "cell_type": "markdown",
   "id": "ed0384e8",
   "metadata": {},
   "source": [
    "## Create a secret\n",
    "\n",
    "To create a secret, we're gonna use the gcloud (interact with GCP on a terminal).\n",
    "First, we create a file with our secret value inside. We do that as test but, for reminder, you should never write a secret value inside the code."
   ]
  },
  {
   "cell_type": "code",
   "execution_count": 1,
   "id": "52b53e39",
   "metadata": {},
   "outputs": [],
   "source": [
    "# Creating a file with a secret inside\n",
    "file = open(\"my_little_secret.txt\", \"w\") \n",
    "file.write(\"This is my secret, keep it hidden\") \n",
    "file.close()"
   ]
  },
  {
   "cell_type": "code",
   "execution_count": 2,
   "id": "54147967",
   "metadata": {},
   "outputs": [
    {
     "data": {
      "text/plain": [
       "'/Users/garantme/PycharmProjects/someTuto/gcp'"
      ]
     },
     "execution_count": 2,
     "metadata": {},
     "output_type": "execute_result"
    }
   ],
   "source": [
    "# get your active directory path\n",
    "import os \n",
    "os.path.abspath(os.getcwd())"
   ]
  },
  {
   "cell_type": "markdown",
   "id": "25d76134",
   "metadata": {},
   "source": [
    "Now, we can use gcloud to create the secret. \n",
    "- Replace \"your_path\" by the path you get form the previous cell\n",
    "- Replace \"secret-id\" by a name of your choice. This will be the name of your secret"
   ]
  },
  {
   "cell_type": "code",
   "execution_count": 3,
   "id": "1a150504",
   "metadata": {},
   "outputs": [
    {
     "name": "stdout",
     "output_type": "stream",
     "text": [
      "Created version [1] of the secret [secret-id].\r\n"
     ]
    }
   ],
   "source": [
    "! gcloud secrets create secret-id \\\n",
    "--replication-policy=\"user-managed\" \\\n",
    "--locations=\"europe-west3\" \\\n",
    "--data-file=\"your_path/my_little_secret.txt\""
   ]
  },
  {
   "cell_type": "markdown",
   "id": "c87e5de6",
   "metadata": {},
   "source": [
    "## Read a secret inside an application"
   ]
  },
  {
   "cell_type": "markdown",
   "id": "8c526a2c",
   "metadata": {},
   "source": [
    "### open impersonated session\n",
    "First, we will authenticate ourselves as service account in gcp. Why ? Your future application will be execute by a service account. We put ourselves as a real situation."
   ]
  },
  {
   "cell_type": "code",
   "execution_count": 4,
   "id": "d7db6110",
   "metadata": {},
   "outputs": [
    {
     "name": "stdout",
     "output_type": "stream",
     "text": [
      "Your browser has been opened to visit:\n",
      "\n",
      "    https://accounts.google.com/o/oauth2/auth?response_type=code&client_id=764086051850-6qr4p6gpi6hn506pt8ejuq83di341hur.apps.googleusercontent.com&redirect_uri=http%3A%2F%2Flocalhost%3A8085%2F&scope=openid+https%3A%2F%2Fwww.googleapis.com%2Fauth%2Fuserinfo.email+https%3A%2F%2Fwww.googleapis.com%2Fauth%2Fcloud-platform+https%3A%2F%2Fwww.googleapis.com%2Fauth%2Faccounts.reauth&state=Cgx1ZY5sciaXK9cYoCTADlykrNWa8D&access_type=offline&code_challenge=ej-J-VGUq2-fHJkRrlQo3dPtsspURHPp8c8lNpFRQh4&code_challenge_method=S256\n",
      "\n",
      "\n",
      "Credentials saved to file: [/Users/garantme/.config/gcloud/application_default_credentials.json]\n",
      "\n",
      "These credentials will be used by any library that requests Application Default Credentials (ADC).\n",
      "\u001b[1;33mWARNING:\u001b[0m /Users/garantme/Documents/google-cloud-sdk/lib/third_party/google/auth/_default.py:70: UserWarning: Your application has authenticated using end user credentials from Google Cloud SDK without a quota project. You might receive a \"quota exceeded\" or \"API not enabled\" error. We recommend you rerun `gcloud auth application-default login` and make sure a quota project is added. Or you can use service accounts instead. For more information about service accounts, see https://cloud.google.com/docs/authentication/\n",
      "  warnings.warn(_CLOUD_SDK_CREDENTIALS_WARNING)\n",
      "\n",
      "\n",
      "Quota project \"datawarehouse-267911\" was added to ADC which can be used by Google client libraries for billing and quota. Note that some services may still bill the project owning the resource.\n"
     ]
    }
   ],
   "source": [
    "! gcloud auth application-default login"
   ]
  },
  {
   "cell_type": "code",
   "execution_count": 5,
   "id": "5978be4a",
   "metadata": {
    "scrolled": false
   },
   "outputs": [
    {
     "name": "stdout",
     "output_type": "stream",
     "text": [
      "Your secret name you have defined : secret-id\n",
      "Plaintext: This is my secret, keep it hidden\n"
     ]
    }
   ],
   "source": [
    "# We are using the secretmanager lib\n",
    "from google.cloud import secretmanager\n",
    "\n",
    "# open the secret manager client\n",
    "client = secretmanager.SecretManagerServiceClient()\n",
    "secret_id = input(\"Your secret name you have defined : \")\n",
    "name = f\"projects/datawarehouse-267911/secrets/{secret_id}/versions/latest\"\n",
    "# request the secret\n",
    "response = client.access_secret_version(request={\"name\": name})\n",
    "\n",
    "\n",
    "# We rare printing the secret value here to show you how it's working\n",
    "# In a real case, do not do that\n",
    "payload = response.payload.data.decode(\"UTF-8\")\n",
    "print(\"Plaintext: {}\".format(payload))"
   ]
  },
  {
   "cell_type": "markdown",
   "id": "c4487e12",
   "metadata": {},
   "source": [
    "### Secret version\n",
    "A secret may have multiple version. If you pay attention on the previous request, we specify inside the variable name, \"version/latest\". \n",
    "\n",
    "Now a little exercice, add a secret version to your secret and then read the first version of the secret.\n",
    "The documentation is here: https://cloud.google.com/secret-manager/docs/creating-and-accessing-secrets"
   ]
  },
  {
   "cell_type": "code",
   "execution_count": 6,
   "id": "5814f3fe",
   "metadata": {},
   "outputs": [
    {
     "data": {
      "text/html": [
       "\n",
       "        <script>\n",
       "            function code_toggle_1757032637028403016() {\n",
       "                $('div.cell.code_cell.rendered.selected').next().find('div.input').toggle();\n",
       "            }\n",
       "\n",
       "            $('div.cell.code_cell.rendered.selected').find(\"div.input\").hide();\n",
       "        </script>\n",
       "\n",
       "        <a href=\"javascript:code_toggle_1757032637028403016()\">Click to shows solution below</a>\n",
       "    "
      ],
      "text/plain": [
       "<IPython.core.display.HTML object>"
      ]
     },
     "execution_count": 6,
     "metadata": {},
     "output_type": "execute_result"
    }
   ],
   "source": [
    "import hide_cell\n",
    "hide_cell.hide_toggle(True)"
   ]
  },
  {
   "cell_type": "code",
   "execution_count": 8,
   "id": "f158de92",
   "metadata": {
    "scrolled": true
   },
   "outputs": [
    {
     "name": "stdout",
     "output_type": "stream",
     "text": [
      "Created version [2] of the secret [secret-id].\n",
      "Plaintext: This is my secret, keep it hidden\n"
     ]
    }
   ],
   "source": [
    "# Creating a file with a secret inside\n",
    "file = open(\"my_little_secret.txt\", \"w\") \n",
    "file.write(\"This is my new secret, way diffrent from the first one\") \n",
    "file.close()\n",
    "\n",
    "# change the name of your secret here\n",
    "# and change the path of your file\n",
    "! gcloud secrets versions add secret-id \\\n",
    "--data-file=\"your_path/my_little_secret.txt\"\n",
    "\n",
    "name = f\"projects/datawarehouse-267911/secrets/{secret_id}/versions/1\"\n",
    "# request the secret\n",
    "response = client.access_secret_version(request={\"name\": name})\n",
    "\n",
    "# We rare printing the secret value here to show you how it's working\n",
    "# In a real case, do not do that\n",
    "payload = response.payload.data.decode(\"UTF-8\")\n",
    "print(\"Plaintext: {}\".format(payload))"
   ]
  },
  {
   "cell_type": "markdown",
   "id": "e6d82dec",
   "metadata": {},
   "source": [
    "Après ce tutoriel, pensez à supprimer le secret que vous créé"
   ]
  },
  {
   "cell_type": "code",
   "execution_count": 9,
   "id": "85bc4371",
   "metadata": {
    "scrolled": false
   },
   "outputs": [],
   "source": [
    "name = client.secret_path(\"datawarehouse-267911\", \"secret-id\")\n",
    "client.delete_secret(request={\"name\": name})"
   ]
  },
  {
   "cell_type": "code",
   "execution_count": null,
   "id": "7a9e0948",
   "metadata": {},
   "outputs": [],
   "source": []
  }
 ],
 "metadata": {
  "kernelspec": {
   "display_name": "Python 3 (ipykernel)",
   "language": "python",
   "name": "python3"
  },
  "language_info": {
   "codemirror_mode": {
    "name": "ipython",
    "version": 3
   },
   "file_extension": ".py",
   "mimetype": "text/x-python",
   "name": "python",
   "nbconvert_exporter": "python",
   "pygments_lexer": "ipython3",
   "version": "3.9.2"
  }
 },
 "nbformat": 4,
 "nbformat_minor": 5
}
